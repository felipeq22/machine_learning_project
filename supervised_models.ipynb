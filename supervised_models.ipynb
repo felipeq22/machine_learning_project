{
 "cells": [
  {
   "cell_type": "code",
   "execution_count": 4,
   "id": "9d5a3ea0",
   "metadata": {},
   "outputs": [],
   "source": [
    "from sklearn.model_selection import train_test_split\n",
    "from sklearn.preprocessing import StandardScaler\n",
    "from sklearn.linear_model import LinearRegression\n",
    "from sklearn.metrics import mean_squared_error\n",
    "import pandas as pd\n",
    "from sklearn.preprocessing import PolynomialFeatures\n",
    "from sklearn.linear_model import Ridge\n",
    "from sklearn.ensemble import RandomForestRegressor\n",
    "import math\n",
    "from sklearn.ensemble import HistGradientBoostingRegressor\n",
    "import numpy as np\n",
    "import matplotlib.pyplot as plt"
   ]
  },
  {
   "cell_type": "code",
   "execution_count": 5,
   "id": "951133bd",
   "metadata": {},
   "outputs": [
    {
     "name": "stdout",
     "output_type": "stream",
     "text": [
      "      SEQN age_group  RIDAGEYR  RIAGENDR  PAQ605  BMXBMI  LBXGLU  DIQ010  \\\n",
      "0  73564.0     Adult      61.0       2.0     2.0    35.7   110.0     2.0   \n",
      "1  73568.0     Adult      26.0       2.0     2.0    20.3    89.0     2.0   \n",
      "2  73576.0     Adult      16.0       1.0     2.0    23.2    89.0     2.0   \n",
      "3  73577.0     Adult      32.0       1.0     2.0    28.9   104.0     2.0   \n",
      "4  73580.0     Adult      38.0       2.0     1.0    35.9   103.0     2.0   \n",
      "\n",
      "   LBXGLT  LBXIN  \n",
      "0   150.0  14.91  \n",
      "1    80.0   3.85  \n",
      "2    68.0   6.14  \n",
      "3    84.0  16.15  \n",
      "4    81.0  10.92  \n"
     ]
    }
   ],
   "source": [
    "# Load dataset\n",
    "df = pd.read_csv('NHANES_age_prediction.csv')\n",
    "\n",
    "# Check that its loaded with correct features\n",
    "print(df.head())"
   ]
  },
  {
   "cell_type": "code",
   "execution_count": 6,
   "id": "c8b7d958",
   "metadata": {},
   "outputs": [
    {
     "name": "stdout",
     "output_type": "stream",
     "text": [
      "(2278, 8) (2278,)\n"
     ]
    }
   ],
   "source": [
    "#set age \"RIDAGEYR\" as target and others as features. Also drop age and age group from features\n",
    "\n",
    "y = df['RIDAGEYR']\n",
    "X = df.drop(columns=['RIDAGEYR', 'age_group'], errors='ignore') \n",
    "\n",
    "print(X.shape, y.shape)"
   ]
  },
  {
   "cell_type": "code",
   "execution_count": 7,
   "id": "a0d0eca0",
   "metadata": {},
   "outputs": [
    {
     "data": {
      "text/plain": [
       "0    61.0\n",
       "1    26.0\n",
       "2    16.0\n",
       "3    32.0\n",
       "4    38.0\n",
       "Name: RIDAGEYR, dtype: float64"
      ]
     },
     "execution_count": 7,
     "metadata": {},
     "output_type": "execute_result"
    }
   ],
   "source": [
    "#check features\n",
    "X.head()\n",
    "\n",
    "#check target column\n",
    "y.head()"
   ]
  },
  {
   "cell_type": "code",
   "execution_count": 8,
   "id": "b28c3c44",
   "metadata": {},
   "outputs": [
    {
     "name": "stdout",
     "output_type": "stream",
     "text": [
      "Mean Squared Error: 348.44\n",
      "Root Mean Squared Error: 18.666638834768968\n"
     ]
    }
   ],
   "source": [
    "#Fit linear regression for prediction\n",
    "\n",
    "# Step 1: Train-test split\n",
    "X_train, X_test, y_train, y_test = train_test_split(X, y, test_size=0.2, random_state=42)\n",
    "\n",
    "# Step 2: Standardize the features\n",
    "scaler = StandardScaler()\n",
    "X_train_scaled = scaler.fit_transform(X_train)\n",
    "X_test_scaled = scaler.transform(X_test)\n",
    "\n",
    "# Step 3: Fit Linear Regression\n",
    "model = LinearRegression()\n",
    "model.fit(X_train_scaled, y_train)\n",
    "\n",
    "# Step 4: Predict\n",
    "y_pred = model.predict(X_test_scaled)\n",
    "\n",
    "# Step 5a: Evaluate with MSE\n",
    "mse = mean_squared_error(y_test, y_pred)\n",
    "print(f\"Mean Squared Error: {mse:.2f}\")\n",
    "\n",
    "# Step 5b: Evaluate with RMSE for interpretability\n",
    "rmse = math.sqrt(mse)\n",
    "print(f\"Root Mean Squared Error: {rmse}\")"
   ]
  },
  {
   "cell_type": "code",
   "execution_count": 9,
   "id": "ac415b31",
   "metadata": {},
   "outputs": [
    {
     "name": "stdout",
     "output_type": "stream",
     "text": [
      "Polynomial Regression (deg=2) MSE: 283.88\n",
      "Root Mean Squared Error: 16.848747293479924\n"
     ]
    }
   ],
   "source": [
    "#Fit polynomial regression for prediction\n",
    "\n",
    "# Create polynomial features (e.g., add squared and interaction terms)\n",
    "poly = PolynomialFeatures(degree=2, include_bias=False)  # no need to add a bias term manually\n",
    "X_train_poly = poly.fit_transform(X_train_scaled)\n",
    "X_test_poly = poly.transform(X_test_scaled)\n",
    "\n",
    "# Train on polynomial features\n",
    "model_poly = LinearRegression()\n",
    "model_poly.fit(X_train_poly, y_train)\n",
    "\n",
    "# Predict and evaluate\n",
    "y_pred_poly = model_poly.predict(X_test_poly)\n",
    "mse_poly = mean_squared_error(y_test, y_pred_poly)\n",
    "print(f\"Polynomial Regression (deg=2) MSE: {mse_poly:.2f}\")\n",
    "\n",
    "rmse_poly = math.sqrt(mse_poly)\n",
    "print(f\"Root Mean Squared Error: {rmse_poly}\")"
   ]
  },
  {
   "cell_type": "code",
   "execution_count": 10,
   "id": "30f5fe02",
   "metadata": {},
   "outputs": [
    {
     "name": "stdout",
     "output_type": "stream",
     "text": [
      "Ridge Regression (deg=2) MSE: 284.05\n",
      "Root Mean Squared Error: 16.853732239427963\n"
     ]
    }
   ],
   "source": [
    "#Fit ridge regression for prediction\n",
    "\n",
    "ridge = Ridge(alpha=5)\n",
    "ridge.fit(X_train_poly, y_train)\n",
    "y_pred_ridge = ridge.predict(X_test_poly)\n",
    "mse_ridge = mean_squared_error(y_test, y_pred_ridge)\n",
    "print(f\"Ridge Regression (deg=2) MSE: {mse_ridge:.2f}\")\n",
    "\n",
    "rmse_ridge = math.sqrt(mse_ridge)\n",
    "print(f\"Root Mean Squared Error: {rmse_ridge}\")"
   ]
  },
  {
   "cell_type": "code",
   "execution_count": 11,
   "id": "880ac906",
   "metadata": {},
   "outputs": [
    {
     "name": "stdout",
     "output_type": "stream",
     "text": [
      "Random Forest MSE: 277.85\n",
      "Root Mean Squared Error: 16.66875770873857\n"
     ]
    }
   ],
   "source": [
    "#Fit random forest for prediction\n",
    "\n",
    "rf = RandomForestRegressor(random_state=42)\n",
    "rf.fit(X_train_scaled, y_train)\n",
    "y_pred_rf = rf.predict(X_test_scaled)\n",
    "\n",
    "mse_rf = mean_squared_error(y_test, y_pred_rf)\n",
    "print(f\"Random Forest MSE: {mse_rf:.2f}\")\n",
    "\n",
    "rmse_rf = math.sqrt(mse_rf)\n",
    "print(f\"Root Mean Squared Error: {rmse_rf}\")"
   ]
  },
  {
   "cell_type": "code",
   "execution_count": 12,
   "id": "b9b7ebf1",
   "metadata": {},
   "outputs": [
    {
     "name": "stdout",
     "output_type": "stream",
     "text": [
      "Boosted Model (HistGradientBoosting) MSE: 283.85\n",
      "Root Mean Squared Error: 16.84784637338479\n"
     ]
    }
   ],
   "source": [
    "#Using a boosted model\n",
    "\n",
    "# Step 1: Split your data\n",
    "X_train, X_test, y_train, y_test = train_test_split(X, y, test_size=0.2, random_state=42)\n",
    "\n",
    "# Step 2: Scale features (optional but can help)\n",
    "scaler = StandardScaler()\n",
    "X_train_scaled = scaler.fit_transform(X_train)\n",
    "X_test_scaled = scaler.transform(X_test)\n",
    "\n",
    "# Step 3: Initialize and train model\n",
    "boosted_model = HistGradientBoostingRegressor(random_state=42)\n",
    "boosted_model.fit(X_train_scaled, y_train)\n",
    "\n",
    "# Step 4: Predict and evaluate\n",
    "y_pred = boosted_model.predict(X_test_scaled)\n",
    "boost_mse = mean_squared_error(y_test, y_pred)\n",
    "print(f\"Boosted Model (HistGradientBoosting) MSE: {boost_mse:.2f}\")\n",
    "\n",
    "rmse_boost = math.sqrt(boost_mse)\n",
    "print(f\"Root Mean Squared Error: {rmse_boost}\")"
   ]
  },
  {
   "cell_type": "code",
   "execution_count": 13,
   "id": "02076004",
   "metadata": {},
   "outputs": [
    {
     "name": "stdout",
     "output_type": "stream",
     "text": [
      "Degree 1: MSE = 348.44\n",
      "Degree 2: MSE = 283.88\n",
      "Degree 3: MSE = 308.09\n",
      "Degree 4: MSE = 12885.56\n"
     ]
    },
    {
     "data": {
      "image/png": "[encoded data removed]",
      "text/plain": [
       "<Figure size 800x500 with 1 Axes>"
      ]
     },
     "metadata": {},
     "output_type": "display_data"
    }
   ],
   "source": [
    "#Make plot with different degrees of freedom to see which df gets lowest error with polynomial regression\n",
    "\n",
    "# Try different degrees of polynomial features\n",
    "degrees = range(1, 5)  # Try degrees 1 to 5\n",
    "mse_values = []\n",
    "\n",
    "for degree in degrees:\n",
    "    poly = PolynomialFeatures(degree=degree, include_bias=False)\n",
    "    X_train_poly = poly.fit_transform(X_train_scaled)\n",
    "    X_test_poly = poly.transform(X_test_scaled)\n",
    "    \n",
    "    model = LinearRegression()\n",
    "    model.fit(X_train_poly, y_train)\n",
    "    y_pred = model.predict(X_test_poly)\n",
    "    mse = mean_squared_error(y_test, y_pred)\n",
    "    mse_values.append(mse)\n",
    "\n",
    "    print(f\"Degree {degree}: MSE = {mse:.2f}\")\n",
    "\n",
    "# Plotting\n",
    "plt.figure(figsize=(8, 5))\n",
    "plt.plot(degrees, mse_values, marker='o')\n",
    "plt.title(\"Polynomial Degree vs MSE\")\n",
    "plt.xlabel(\"Polynomial Degree\")\n",
    "plt.ylabel(\"Mean Squared Error\")\n",
    "plt.xticks(degrees)\n",
    "plt.grid(True)\n",
    "plt.show()"
   ]
  },
  {
   "cell_type": "markdown",
   "id": "52d261ab",
   "metadata": {},
   "source": [
    "Linear regression RMSE: 18.66 Polynomial Regression (deg=2) RMSE: 16.84 Ridge Regression (deg=2) RMSE: 16.85 Random Forest RMSE: 16.66 Boosted RMSE: 16.84"
   ]
  }
 ],
 "metadata": {
  "kernelspec": {
   "display_name": "ml2025",
   "language": "python",
   "name": "python3"
  },
  "language_info": {
   "codemirror_mode": {
    "name": "ipython",
    "version": 3
   },
   "file_extension": ".py",
   "mimetype": "text/x-python",
   "name": "python",
   "nbconvert_exporter": "python",
   "pygments_lexer": "ipython3",
   "version": "3.11.11"
  }
 },
 "nbformat": 4,
 "nbformat_minor": 5
}
